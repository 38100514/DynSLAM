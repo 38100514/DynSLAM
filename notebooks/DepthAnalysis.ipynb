{
 "cells": [
  {
   "cell_type": "markdown",
   "metadata": {},
   "source": [
    "# Depth Data Analysis for DynSLAM"
   ]
  },
  {
   "cell_type": "code",
   "execution_count": 61,
   "metadata": {},
   "outputs": [],
   "source": [
    "import numpy as np\n",
    "import pandas as pd\n",
    "import matplotlib.pyplot as plt\n",
    "import seaborn as sns\n",
    "\n",
    "%matplotlib inline\n",
    "\n",
    "from matplotlib import rc\n",
    "# Enable full LaTeX support in plot text. Requires a full-fledged LaTeX installation\n",
    "# on your system, accessible via PATH.\n",
    "rc('text', usetex=True)\n",
    "\n",
    "# TODO(andrei): Remember that box-and-whisker plots can be VERY informative."
   ]
  },
  {
   "cell_type": "code",
   "execution_count": 62,
   "metadata": {},
   "outputs": [
    {
     "name": "stdout",
     "output_type": "stream",
     "text": [
      "../cmake-build-debug/kitti-odometry-08-offset-3969-results.csv\r\n",
      "../cmake-build-debug/out.csv\r\n"
     ]
    }
   ],
   "source": [
    "%ls ../cmake-build-debug/*.csv"
   ]
  },
  {
   "cell_type": "code",
   "execution_count": 63,
   "metadata": {
    "collapsed": true
   },
   "outputs": [],
   "source": [
    "CSV_FILE_DISPNET = \"../cmake-build-debug/kitti-odometry-08-offset-3969-results.csv\"\n",
    "CSV_FILE_ELAS = \"../cmake-build-debug/kitti-odometry-08-offset-3969-results.csv\""
   ]
  },
  {
   "cell_type": "code",
   "execution_count": 64,
   "metadata": {
    "collapsed": true
   },
   "outputs": [],
   "source": [
    "frame_dn = pd.read_csv(CSV_FILE_DISPNET)\n",
    "frame_elas = pd.read_csv(CSV_FILE_ELAS)"
   ]
  },
  {
   "cell_type": "code",
   "execution_count": 65,
   "metadata": {},
   "outputs": [],
   "source": [
    "# for row in range(1, 10):\n",
    "#     total = frame['fusion-total-1'][row]\n",
    "#     error = frame['fusion-error-1'][row]\n",
    "#     missing = frame['fusion-missing-1'][row]\n",
    "#     correct = frame['fusion-correct-1'][row]\n",
    "    \n",
    "#     print(frame['frame'][row])\n",
    "#     print(total, error, missing, correct)\n",
    "    "
   ]
  },
  {
   "cell_type": "code",
   "execution_count": 77,
   "metadata": {
    "scrolled": false
   },
   "outputs": [
    {
     "data": {
      "text/plain": [
       "<matplotlib.legend.Legend at 0x7f7983eed780>"
      ]
     },
     "execution_count": 77,
     "metadata": {},
     "output_type": "execute_result"
    },
    {
     "data": {
      "image/png": "[encoded data removed]",
      "text/plain": [
       "<matplotlib.figure.Figure at 0x7f7983c1c748>"
      ]
     },
     "metadata": {},
     "output_type": "display_data"
    }
   ],
   "source": [
    "accs_input = []\n",
    "accs_input_stds = []\n",
    "accs_fusion = []\n",
    "accs_fusion_stds = []\n",
    "delta_maxes = range(1, 11)\n",
    "\n",
    "def stats_for_delta(dframe, name, delta, include_missing):\n",
    "    total = frame['{}-total-{}'.format(name, delta)]\n",
    "    error = frame['{}-error-{}'.format(name, delta)]\n",
    "    missing = frame['{}-missing-{}'.format(name, delta)]\n",
    "    correct = frame['{}-correct-{}'.format(name, delta)]\n",
    "    \n",
    "    if include_missing:\n",
    "        # Consider missing (uncomputed) values as errors\n",
    "        accuracy = currect / total\n",
    "    else:\n",
    "        accuracy = correct / (total - missing)\n",
    "        \n",
    "    return accuracy.mean(), accuracy.std()\n",
    "\n",
    "missing_are_errors = False\n",
    "for i in delta_maxes:\n",
    "    fus_acc_mean, fus_acc_std = stats_for_delta(frame, 'fusion', i, missing_are_errors)\n",
    "    accs_fusion.append(fus_acc_mean)\n",
    "    accs_fusion_stds.append(fus_acc_std)\n",
    "    \n",
    "    in_acc_mean, in_acc_std = stats_for_delta(frame, 'input', i, missing_are_errors)\n",
    "    accs_input.append(in_acc_mean)\n",
    "    accs_input_stds.append(in_acc_std)\n",
    "\n",
    "# TODO look for best practices for mpl figures and use them\n",
    "plt.errorbar(delta_maxes, accs_input, accs_input_stds, label='DispNet')\n",
    "plt.errorbar(delta_maxes, accs_fusion, accs_fusion_stds, label='DispNet fused')\n",
    "plt.xlabel(r\"Depth threshold $\\delta_{\\textrm{max}}$\")\n",
    "plt.ylabel(r\"Correct pixel ratio\")\n",
    "plt.ylim([0, 1])\n",
    "plt.legend()\n"
   ]
  },
  {
   "cell_type": "code",
   "execution_count": null,
   "metadata": {
    "collapsed": true
   },
   "outputs": [],
   "source": []
  }
 ],
 "metadata": {
  "kernelspec": {
   "display_name": "Python 3",
   "language": "python",
   "name": "python3"
  },
  "language_info": {
   "codemirror_mode": {
    "name": "ipython",
    "version": 3
   },
   "file_extension": ".py",
   "mimetype": "text/x-python",
   "name": "python",
   "nbconvert_exporter": "python",
   "pygments_lexer": "ipython3",
   "version": "3.6.1"
  }
 },
 "nbformat": 4,
 "nbformat_minor": 2
}
