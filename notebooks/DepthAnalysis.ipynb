{
 "cells": [
  {
   "cell_type": "markdown",
   "metadata": {},
   "source": [
    "# Depth Data Analysis for DynSLAM"
   ]
  },
  {
   "cell_type": "code",
   "execution_count": 1,
   "metadata": {
    "collapsed": true
   },
   "outputs": [],
   "source": [
    "import numpy as np\n",
    "import pandas as pd\n",
    "import matplotlib.pyplot as plt\n",
    "import seaborn as sns\n",
    "\n",
    "%matplotlib inline\n",
    "\n",
    "from matplotlib import rc\n",
    "# Enable full LaTeX support in plot text. Requires a full-fledged LaTeX installation\n",
    "# on your system, accessible via PATH.\n",
    "rc('text', usetex=True)\n",
    "\n",
    "plt.rcParams[\"figure.figsize\"] = (16, 6)\n",
    "\n",
    "# TODO(andrei): Remember that box-and-whisker plots can be VERY informative."
   ]
  },
  {
   "cell_type": "code",
   "execution_count": 2,
   "metadata": {},
   "outputs": [
    {
     "name": "stdout",
     "output_type": "stream",
     "text": [
      "kitti-odometry-06-offset-0-depth-precomputed-dispnet-voxelsize-0.0500-max-depth-m-20.00-dynamic-mode-NO-direct-ref-depth-result.csv\n",
      "kitti-odometry-06-offset-0-depth-precomputed-dispnet-voxelsize-0.0500-max-depth-m-20.00-dynamic-mode-NO-direct-ref-3d-tracking-result.csv\n",
      "kitti-odometry-08-offset-3969-depth-precomputed-dispnet-voxelsize-0.0500-max-depth-m-20.00-dynamic-mode-NO-direct-ref-depth-result.csv\n",
      "kitti-odometry-08-offset-3969-depth-precomputed-dispnet-voxelsize-0.0500-max-depth-m-20.00-dynamic-mode-NO-direct-ref-3d-tracking-result.csv\n",
      "kitti-odometry-08-offset-3969-depth-precomputed-dispnet-voxelsize-0.0500-max-depth-m-20.00-NO-direct-ref-depth-result.csv\n"
     ]
    }
   ],
   "source": [
    "%%bash\n",
    "(cd ../cmake-build-debug && (ls -t *.csv | head -n 5))"
   ]
  },
  {
   "cell_type": "code",
   "execution_count": 3,
   "metadata": {},
   "outputs": [
    {
     "name": "stdout",
     "output_type": "stream",
     "text": [
      "UNFAIR COMPARISON!!!\n"
     ]
    }
   ],
   "source": [
    "# CSV_FILE_DISPNET = \"../cmake-build-debug/kitti-odometry-06-offset-0-depth-precomputed-dispnet-voxelsize-0.0350-results.csv\"\n",
    "# CSV_FILE_ELAS = \"../cmake-build-debug/kitti-odometry-08-offset-3969-results.csv\"\n",
    "# CSV_FILE_ELAS = \"../cmake-build-debug/kitti-odometry-06-offset-0-depth-precomputed-elas-voxelsize-0.0350-results.csv\"\n",
    "\n",
    "# CSV_FILE_DISPNET=\"../cmake-build-debug/kitti-odometry-05-offset-0-depth-precomputed-dispnet-voxelsize-0.0350-results.csv\"\n",
    "# CSV_FILE_ELAS=\"../cmake-build-debug/kitti-odometry-05-offset-0-depth-precomputed-elas-voxelsize-0.0350-results.csv\"\n",
    "\n",
    "# CSV_FILE_DISPNET=\"../cmake-build-debug/kitti-odometry-06-offset-0-depth-precomputed-dispnet-voxelsize-0.0350-results.csv\"\n",
    "# CSV_FILE_ELAS=\"../cmake-build-debug/kitti-odometry-06-offset-0-depth-precomputed-elas-voxelsize-0.0350-results.csv\"\n",
    "\n",
    "# CSV_FILE_DISPNET=\"../cmake-build-debug/kitti-odometry-03-offset-500-depth-precomputed-dispnet-voxelsize-0.0350-max-depth-m-12.00-results.csv\"\n",
    "# CSV_FILE_DISPNET=\"../cmake-build-debug/kitti-odometry-03-offset-500-depth-precomputed-elas-voxelsize-0.0350-max-depth-m-12.00-results.csv\"\n",
    "\n",
    "# Same as above but with 16m max depth\n",
    "# CSV_FILE_DISPNET=\"../cmake-build-debug/kitti-odometry-03-offset-500-depth-precomputed-dispnet-voxelsize-0.0350-max-depth-m-16.00-results.csv\"\n",
    "# CSV_FILE_ELAS =\"../cmake-build-debug/kitti-odometry-03-offset-500-depth-precomputed-elas-voxelsize-0.0350-max-depth-m-16.00-results.csv\"\n",
    "\n",
    "CSV_FILE_DISPNET = \"../cmake-build-debug/kitti-odometry-06-offset-0-depth-precomputed-dispnet-voxelsize-0.0500-max-depth-m-20.00-results.csv\"\n",
    "CSV_FILE_ELAS = \"../cmake-build-debug/kitti-odometry-06-offset-0-depth-precomputed-elas-voxelsize-0.0500-max-depth-m-20.00-results.csv\"\n",
    "\n",
    "# just trying to see exactly how much better the improvement is\n",
    "# CSV_FILE_ELAS = \"../cmake-build-debug/kitti-tracking-sequence-0004-tracking-dataset-offset-0-depth-precomputed-elas-voxelsize-0.0500-max-depth-m-20.00-results.csv\""
   ]
  },
  {
   "cell_type": "code",
   "execution_count": 82,
   "metadata": {
    "collapsed": true
   },
   "outputs": [],
   "source": [
    "frame_dn = pd.read_csv(CSV_FILE_DISPNET)\n",
    "frame_elas = pd.read_csv(CSV_FILE_ELAS)\n",
    "DELTA_MAX = 8\n",
    "\n",
    "len(frame_dn), len(frame_elas)\n",
    "\n",
    "def augment(dframe):\n",
    "    for name in ['input', 'fusion']:\n",
    "        for delta in range(1, DELTA_MAX+1):\n",
    "            total = dframe['{}-total-{:.2f}'.format(name, delta)]\n",
    "            error = dframe['{}-error-{:.2f}'.format(name, delta)]\n",
    "            missing = dframe['{}-missing-{:.2f}'.format(name, delta)]\n",
    "            correct = dframe['{}-correct-{:.2f}'.format(name, delta)]\n",
    "\n",
    "            dframe['{}-error-percent-{:.2f}'.format(name, delta)] = error / total\n",
    "            dframe['{}-error-and-missing-percent-{:.2f}'.format(name, delta)] = (error+missing) / total\n",
    "            dframe['{}-missing-percent-{:.2f}'.format(name, delta)] = missing / total\n",
    "            dframe['{}-correct-percent-{:.2f}'.format(name, delta)] = correct / total"
   ]
  },
  {
   "cell_type": "code",
   "execution_count": 9,
   "metadata": {
    "collapsed": true
   },
   "outputs": [],
   "source": [
    "augment(frame_dn)\n",
    "augment(frame_elas)"
   ]
  },
  {
   "cell_type": "markdown",
   "metadata": {},
   "source": [
    "## Timeseries Comparison Plots\n",
    "\n",
    "These could show how the error% for different configs changes over time, in the same plot (cf. the stacked \"Timeseries plots\" below)."
   ]
  },
  {
   "cell_type": "code",
   "execution_count": null,
   "metadata": {},
   "outputs": [],
   "source": [
    "def timeseries_comp(df, missing_are_errors):\n",
    "    ax = None\n",
    "    for i in [1, 3, 8]:\n",
    "        in_lbl = 'Input error for $\\delta_{{max}} = {}$'.format(i)\n",
    "        in_key = 'input-{}-percent-{}'.format('error-and-missing' if missing_are_errors else 'error', i)\n",
    "        ax = df[in_key].plot(label=in_lbl)\n",
    "        \n",
    "        fus_lbl = 'Fusion error for $\\delta_{{max}} = {}$'.format(i)\n",
    "        fus_key = 'fusion-{}-percent-{}'.format('error-and-missing' if missing_are_errors else 'error', i)\n",
    "        ax = df[fus_key].plot(label=fus_lbl, marker='x')\n",
    "\n",
    "    return ax\n",
    "\n",
    "ax = timeseries_comp(frame_elas, False)\n",
    "ax.set_ylim([0,1])\n",
    "ax.set_ylabel(\"Percentage of error pixels\")\n",
    "ax.set_xlabel(\"Frame\")\n",
    "ax.legend()\n",
    "\n",
    "# ax = timeseries_comp(frame_elas, True)"
   ]
  },
  {
   "cell_type": "markdown",
   "metadata": {},
   "source": [
    "## Boxplots\n",
    "\n",
    "We could use these plots to compare the error distributions for different scenes and different parameter configurations; for instance, we could show that errors tend to be smaller for dynamic scenes when dynamic objects are accounted for."
   ]
  },
  {
   "cell_type": "code",
   "execution_count": 81,
   "metadata": {},
   "outputs": [
    {
     "ename": "KeyError",
     "evalue": "'input-error-percent-1.00'",
     "output_type": "error",
     "traceback": [
      "\u001b[0;31m---------------------------------------------------------------------------\u001b[0m",
      "\u001b[0;31mKeyError\u001b[0m                                  Traceback (most recent call last)",
      "\u001b[0;32m~/miniconda3/envs/numerics/lib/python3.6/site-packages/pandas/core/indexes/base.py\u001b[0m in \u001b[0;36mget_loc\u001b[0;34m(self, key, method, tolerance)\u001b[0m\n\u001b[1;32m   2441\u001b[0m             \u001b[0;32mtry\u001b[0m\u001b[0;34m:\u001b[0m\u001b[0;34m\u001b[0m\u001b[0m\n\u001b[0;32m-> 2442\u001b[0;31m                 \u001b[0;32mreturn\u001b[0m \u001b[0mself\u001b[0m\u001b[0;34m.\u001b[0m\u001b[0m_engine\u001b[0m\u001b[0;34m.\u001b[0m\u001b[0mget_loc\u001b[0m\u001b[0;34m(\u001b[0m\u001b[0mkey\u001b[0m\u001b[0;34m)\u001b[0m\u001b[0;34m\u001b[0m\u001b[0m\n\u001b[0m\u001b[1;32m   2443\u001b[0m             \u001b[0;32mexcept\u001b[0m \u001b[0mKeyError\u001b[0m\u001b[0;34m:\u001b[0m\u001b[0;34m\u001b[0m\u001b[0m\n",
      "\u001b[0;32mpandas/_libs/index.pyx\u001b[0m in \u001b[0;36mpandas._libs.index.IndexEngine.get_loc (pandas/_libs/index.c:5280)\u001b[0;34m()\u001b[0m\n",
      "\u001b[0;32mpandas/_libs/index.pyx\u001b[0m in \u001b[0;36mpandas._libs.index.IndexEngine.get_loc (pandas/_libs/index.c:5126)\u001b[0;34m()\u001b[0m\n",
      "\u001b[0;32mpandas/_libs/hashtable_class_helper.pxi\u001b[0m in \u001b[0;36mpandas._libs.hashtable.PyObjectHashTable.get_item (pandas/_libs/hashtable.c:20523)\u001b[0;34m()\u001b[0m\n",
      "\u001b[0;32mpandas/_libs/hashtable_class_helper.pxi\u001b[0m in \u001b[0;36mpandas._libs.hashtable.PyObjectHashTable.get_item (pandas/_libs/hashtable.c:20477)\u001b[0;34m()\u001b[0m\n",
      "\u001b[0;31mKeyError\u001b[0m: 'input-error-percent-1.00'",
      "\nDuring handling of the above exception, another exception occurred:\n",
      "\u001b[0;31mKeyError\u001b[0m                                  Traceback (most recent call last)",
      "\u001b[0;32m<ipython-input-81-fe8840b89257>\u001b[0m in \u001b[0;36m<module>\u001b[0;34m()\u001b[0m\n\u001b[1;32m     13\u001b[0m \u001b[0;34m\u001b[0m\u001b[0m\n\u001b[1;32m     14\u001b[0m \u001b[0;31m# Well... do note that in the LSD-SLAM paper they don't *really* show the outliers, do they?\u001b[0m\u001b[0;34m\u001b[0m\u001b[0;34m\u001b[0m\u001b[0m\n\u001b[0;32m---> 15\u001b[0;31m \u001b[0mboxplots\u001b[0m\u001b[0;34m(\u001b[0m\u001b[0mframe_elas\u001b[0m\u001b[0;34m,\u001b[0m \u001b[0mframe_dn\u001b[0m\u001b[0;34m,\u001b[0m \u001b[0mdelta_max\u001b[0m\u001b[0;34m=\u001b[0m\u001b[0;36m1\u001b[0m\u001b[0;34m)\u001b[0m\u001b[0;34m\u001b[0m\u001b[0m\n\u001b[0m",
      "\u001b[0;32m<ipython-input-81-fe8840b89257>\u001b[0m in \u001b[0;36mboxplots\u001b[0;34m(elas_frame, dn_frame, delta_max)\u001b[0m\n\u001b[1;32m      1\u001b[0m \u001b[0;32mdef\u001b[0m \u001b[0mboxplots\u001b[0m\u001b[0;34m(\u001b[0m\u001b[0melas_frame\u001b[0m\u001b[0;34m,\u001b[0m \u001b[0mdn_frame\u001b[0m\u001b[0;34m,\u001b[0m \u001b[0mdelta_max\u001b[0m\u001b[0;34m)\u001b[0m\u001b[0;34m:\u001b[0m\u001b[0;34m\u001b[0m\u001b[0m\n\u001b[1;32m      2\u001b[0m     bp_df = pd.DataFrame({\n\u001b[0;32m----> 3\u001b[0;31m         \u001b[0;34m'ELAS input errors'\u001b[0m\u001b[0;34m:\u001b[0m \u001b[0melas_frame\u001b[0m\u001b[0;34m[\u001b[0m\u001b[0;34m'input-error-percent-{:.2f}'\u001b[0m\u001b[0;34m.\u001b[0m\u001b[0mformat\u001b[0m\u001b[0;34m(\u001b[0m\u001b[0mdelta_max\u001b[0m\u001b[0;34m)\u001b[0m\u001b[0;34m]\u001b[0m\u001b[0;34m,\u001b[0m\u001b[0;34m\u001b[0m\u001b[0m\n\u001b[0m\u001b[1;32m      4\u001b[0m         \u001b[0;34m'Dispnet input errors'\u001b[0m\u001b[0;34m:\u001b[0m \u001b[0mdn_frame\u001b[0m\u001b[0;34m[\u001b[0m\u001b[0;34m'input-error-percent-{:.2f}'\u001b[0m\u001b[0;34m.\u001b[0m\u001b[0mformat\u001b[0m\u001b[0;34m(\u001b[0m\u001b[0mdelta_max\u001b[0m\u001b[0;34m)\u001b[0m\u001b[0;34m]\u001b[0m\u001b[0;34m,\u001b[0m\u001b[0;34m\u001b[0m\u001b[0m\n\u001b[1;32m      5\u001b[0m         \u001b[0;34m'ELAS fusion errors'\u001b[0m\u001b[0;34m:\u001b[0m \u001b[0melas_frame\u001b[0m\u001b[0;34m[\u001b[0m\u001b[0;34m'fusion-error-percent-{:.2f}'\u001b[0m\u001b[0;34m.\u001b[0m\u001b[0mformat\u001b[0m\u001b[0;34m(\u001b[0m\u001b[0mdelta_max\u001b[0m\u001b[0;34m)\u001b[0m\u001b[0;34m]\u001b[0m\u001b[0;34m,\u001b[0m\u001b[0;34m\u001b[0m\u001b[0m\n",
      "\u001b[0;32m~/miniconda3/envs/numerics/lib/python3.6/site-packages/pandas/core/frame.py\u001b[0m in \u001b[0;36m__getitem__\u001b[0;34m(self, key)\u001b[0m\n\u001b[1;32m   1962\u001b[0m             \u001b[0;32mreturn\u001b[0m \u001b[0mself\u001b[0m\u001b[0;34m.\u001b[0m\u001b[0m_getitem_multilevel\u001b[0m\u001b[0;34m(\u001b[0m\u001b[0mkey\u001b[0m\u001b[0;34m)\u001b[0m\u001b[0;34m\u001b[0m\u001b[0m\n\u001b[1;32m   1963\u001b[0m         \u001b[0;32melse\u001b[0m\u001b[0;34m:\u001b[0m\u001b[0;34m\u001b[0m\u001b[0m\n\u001b[0;32m-> 1964\u001b[0;31m             \u001b[0;32mreturn\u001b[0m \u001b[0mself\u001b[0m\u001b[0;34m.\u001b[0m\u001b[0m_getitem_column\u001b[0m\u001b[0;34m(\u001b[0m\u001b[0mkey\u001b[0m\u001b[0;34m)\u001b[0m\u001b[0;34m\u001b[0m\u001b[0m\n\u001b[0m\u001b[1;32m   1965\u001b[0m \u001b[0;34m\u001b[0m\u001b[0m\n\u001b[1;32m   1966\u001b[0m     \u001b[0;32mdef\u001b[0m \u001b[0m_getitem_column\u001b[0m\u001b[0;34m(\u001b[0m\u001b[0mself\u001b[0m\u001b[0;34m,\u001b[0m \u001b[0mkey\u001b[0m\u001b[0;34m)\u001b[0m\u001b[0;34m:\u001b[0m\u001b[0;34m\u001b[0m\u001b[0m\n",
      "\u001b[0;32m~/miniconda3/envs/numerics/lib/python3.6/site-packages/pandas/core/frame.py\u001b[0m in \u001b[0;36m_getitem_column\u001b[0;34m(self, key)\u001b[0m\n\u001b[1;32m   1969\u001b[0m         \u001b[0;31m# get column\u001b[0m\u001b[0;34m\u001b[0m\u001b[0;34m\u001b[0m\u001b[0m\n\u001b[1;32m   1970\u001b[0m         \u001b[0;32mif\u001b[0m \u001b[0mself\u001b[0m\u001b[0;34m.\u001b[0m\u001b[0mcolumns\u001b[0m\u001b[0;34m.\u001b[0m\u001b[0mis_unique\u001b[0m\u001b[0;34m:\u001b[0m\u001b[0;34m\u001b[0m\u001b[0m\n\u001b[0;32m-> 1971\u001b[0;31m             \u001b[0;32mreturn\u001b[0m \u001b[0mself\u001b[0m\u001b[0;34m.\u001b[0m\u001b[0m_get_item_cache\u001b[0m\u001b[0;34m(\u001b[0m\u001b[0mkey\u001b[0m\u001b[0;34m)\u001b[0m\u001b[0;34m\u001b[0m\u001b[0m\n\u001b[0m\u001b[1;32m   1972\u001b[0m \u001b[0;34m\u001b[0m\u001b[0m\n\u001b[1;32m   1973\u001b[0m         \u001b[0;31m# duplicate columns & possible reduce dimensionality\u001b[0m\u001b[0;34m\u001b[0m\u001b[0;34m\u001b[0m\u001b[0m\n",
      "\u001b[0;32m~/miniconda3/envs/numerics/lib/python3.6/site-packages/pandas/core/generic.py\u001b[0m in \u001b[0;36m_get_item_cache\u001b[0;34m(self, item)\u001b[0m\n\u001b[1;32m   1643\u001b[0m         \u001b[0mres\u001b[0m \u001b[0;34m=\u001b[0m \u001b[0mcache\u001b[0m\u001b[0;34m.\u001b[0m\u001b[0mget\u001b[0m\u001b[0;34m(\u001b[0m\u001b[0mitem\u001b[0m\u001b[0;34m)\u001b[0m\u001b[0;34m\u001b[0m\u001b[0m\n\u001b[1;32m   1644\u001b[0m         \u001b[0;32mif\u001b[0m \u001b[0mres\u001b[0m \u001b[0;32mis\u001b[0m \u001b[0;32mNone\u001b[0m\u001b[0;34m:\u001b[0m\u001b[0;34m\u001b[0m\u001b[0m\n\u001b[0;32m-> 1645\u001b[0;31m             \u001b[0mvalues\u001b[0m \u001b[0;34m=\u001b[0m \u001b[0mself\u001b[0m\u001b[0;34m.\u001b[0m\u001b[0m_data\u001b[0m\u001b[0;34m.\u001b[0m\u001b[0mget\u001b[0m\u001b[0;34m(\u001b[0m\u001b[0mitem\u001b[0m\u001b[0;34m)\u001b[0m\u001b[0;34m\u001b[0m\u001b[0m\n\u001b[0m\u001b[1;32m   1646\u001b[0m             \u001b[0mres\u001b[0m \u001b[0;34m=\u001b[0m \u001b[0mself\u001b[0m\u001b[0;34m.\u001b[0m\u001b[0m_box_item_values\u001b[0m\u001b[0;34m(\u001b[0m\u001b[0mitem\u001b[0m\u001b[0;34m,\u001b[0m \u001b[0mvalues\u001b[0m\u001b[0;34m)\u001b[0m\u001b[0;34m\u001b[0m\u001b[0m\n\u001b[1;32m   1647\u001b[0m             \u001b[0mcache\u001b[0m\u001b[0;34m[\u001b[0m\u001b[0mitem\u001b[0m\u001b[0;34m]\u001b[0m \u001b[0;34m=\u001b[0m \u001b[0mres\u001b[0m\u001b[0;34m\u001b[0m\u001b[0m\n",
      "\u001b[0;32m~/miniconda3/envs/numerics/lib/python3.6/site-packages/pandas/core/internals.py\u001b[0m in \u001b[0;36mget\u001b[0;34m(self, item, fastpath)\u001b[0m\n\u001b[1;32m   3588\u001b[0m \u001b[0;34m\u001b[0m\u001b[0m\n\u001b[1;32m   3589\u001b[0m             \u001b[0;32mif\u001b[0m \u001b[0;32mnot\u001b[0m \u001b[0misnull\u001b[0m\u001b[0;34m(\u001b[0m\u001b[0mitem\u001b[0m\u001b[0;34m)\u001b[0m\u001b[0;34m:\u001b[0m\u001b[0;34m\u001b[0m\u001b[0m\n\u001b[0;32m-> 3590\u001b[0;31m                 \u001b[0mloc\u001b[0m \u001b[0;34m=\u001b[0m \u001b[0mself\u001b[0m\u001b[0;34m.\u001b[0m\u001b[0mitems\u001b[0m\u001b[0;34m.\u001b[0m\u001b[0mget_loc\u001b[0m\u001b[0;34m(\u001b[0m\u001b[0mitem\u001b[0m\u001b[0;34m)\u001b[0m\u001b[0;34m\u001b[0m\u001b[0m\n\u001b[0m\u001b[1;32m   3591\u001b[0m             \u001b[0;32melse\u001b[0m\u001b[0;34m:\u001b[0m\u001b[0;34m\u001b[0m\u001b[0m\n\u001b[1;32m   3592\u001b[0m                 \u001b[0mindexer\u001b[0m \u001b[0;34m=\u001b[0m \u001b[0mnp\u001b[0m\u001b[0;34m.\u001b[0m\u001b[0marange\u001b[0m\u001b[0;34m(\u001b[0m\u001b[0mlen\u001b[0m\u001b[0;34m(\u001b[0m\u001b[0mself\u001b[0m\u001b[0;34m.\u001b[0m\u001b[0mitems\u001b[0m\u001b[0;34m)\u001b[0m\u001b[0;34m)\u001b[0m\u001b[0;34m[\u001b[0m\u001b[0misnull\u001b[0m\u001b[0;34m(\u001b[0m\u001b[0mself\u001b[0m\u001b[0;34m.\u001b[0m\u001b[0mitems\u001b[0m\u001b[0;34m)\u001b[0m\u001b[0;34m]\u001b[0m\u001b[0;34m\u001b[0m\u001b[0m\n",
      "\u001b[0;32m~/miniconda3/envs/numerics/lib/python3.6/site-packages/pandas/core/indexes/base.py\u001b[0m in \u001b[0;36mget_loc\u001b[0;34m(self, key, method, tolerance)\u001b[0m\n\u001b[1;32m   2442\u001b[0m                 \u001b[0;32mreturn\u001b[0m \u001b[0mself\u001b[0m\u001b[0;34m.\u001b[0m\u001b[0m_engine\u001b[0m\u001b[0;34m.\u001b[0m\u001b[0mget_loc\u001b[0m\u001b[0;34m(\u001b[0m\u001b[0mkey\u001b[0m\u001b[0;34m)\u001b[0m\u001b[0;34m\u001b[0m\u001b[0m\n\u001b[1;32m   2443\u001b[0m             \u001b[0;32mexcept\u001b[0m \u001b[0mKeyError\u001b[0m\u001b[0;34m:\u001b[0m\u001b[0;34m\u001b[0m\u001b[0m\n\u001b[0;32m-> 2444\u001b[0;31m                 \u001b[0;32mreturn\u001b[0m \u001b[0mself\u001b[0m\u001b[0;34m.\u001b[0m\u001b[0m_engine\u001b[0m\u001b[0;34m.\u001b[0m\u001b[0mget_loc\u001b[0m\u001b[0;34m(\u001b[0m\u001b[0mself\u001b[0m\u001b[0;34m.\u001b[0m\u001b[0m_maybe_cast_indexer\u001b[0m\u001b[0;34m(\u001b[0m\u001b[0mkey\u001b[0m\u001b[0;34m)\u001b[0m\u001b[0;34m)\u001b[0m\u001b[0;34m\u001b[0m\u001b[0m\n\u001b[0m\u001b[1;32m   2445\u001b[0m \u001b[0;34m\u001b[0m\u001b[0m\n\u001b[1;32m   2446\u001b[0m         \u001b[0mindexer\u001b[0m \u001b[0;34m=\u001b[0m \u001b[0mself\u001b[0m\u001b[0;34m.\u001b[0m\u001b[0mget_indexer\u001b[0m\u001b[0;34m(\u001b[0m\u001b[0;34m[\u001b[0m\u001b[0mkey\u001b[0m\u001b[0;34m]\u001b[0m\u001b[0;34m,\u001b[0m \u001b[0mmethod\u001b[0m\u001b[0;34m=\u001b[0m\u001b[0mmethod\u001b[0m\u001b[0;34m,\u001b[0m \u001b[0mtolerance\u001b[0m\u001b[0;34m=\u001b[0m\u001b[0mtolerance\u001b[0m\u001b[0;34m)\u001b[0m\u001b[0;34m\u001b[0m\u001b[0m\n",
      "\u001b[0;32mpandas/_libs/index.pyx\u001b[0m in \u001b[0;36mpandas._libs.index.IndexEngine.get_loc (pandas/_libs/index.c:5280)\u001b[0;34m()\u001b[0m\n",
      "\u001b[0;32mpandas/_libs/index.pyx\u001b[0m in \u001b[0;36mpandas._libs.index.IndexEngine.get_loc (pandas/_libs/index.c:5126)\u001b[0;34m()\u001b[0m\n",
      "\u001b[0;32mpandas/_libs/hashtable_class_helper.pxi\u001b[0m in \u001b[0;36mpandas._libs.hashtable.PyObjectHashTable.get_item (pandas/_libs/hashtable.c:20523)\u001b[0;34m()\u001b[0m\n",
      "\u001b[0;32mpandas/_libs/hashtable_class_helper.pxi\u001b[0m in \u001b[0;36mpandas._libs.hashtable.PyObjectHashTable.get_item (pandas/_libs/hashtable.c:20477)\u001b[0;34m()\u001b[0m\n",
      "\u001b[0;31mKeyError\u001b[0m: 'input-error-percent-1.00'"
     ]
    }
   ],
   "source": [
    "def boxplots(elas_frame, dn_frame, delta_max):\n",
    "    bp_df = pd.DataFrame({\n",
    "        'ELAS input errors': elas_frame['input-error-percent-{:.2f}'.format(delta_max)],\n",
    "        'Dispnet input errors': dn_frame['input-error-percent-{:.2f}'.format(delta_max)],\n",
    "        'ELAS fusion errors': elas_frame['fusion-error-percent-{:.2f}'.format(delta_max)],\n",
    "        'Dispnet fusion errors': dn_frame['fusion-error-percent-{:.2f}'.format(delta_max)]\n",
    "    })\n",
    "    ax = bp_df.boxplot()\n",
    "    ax.set_ylim([0, 0.5])\n",
    "    ax.set_ylabel(\"Percentage of incorrect pixels\")\n",
    "    ax.set_title(\"For sequence dumped to file {}\".format(CSV_FILE_ELAS))\n",
    "    ax.grid('off')\n",
    "    \n",
    "# Well... do note that in the LSD-SLAM paper they don't *really* show the outliers, do they?\n",
    "boxplots(frame_elas, frame_dn, delta_max=1)"
   ]
  },
  {
   "cell_type": "markdown",
   "metadata": {},
   "source": [
    "Inspiration: the boxplots used for the point-to-plane distance based evaluation for LSD-SLAM:\n",
    "\n",
    "![](img/lsd-slam-results.png)\n",
    "\n",
    "Note how the libelas errors are actually smaller than their result fused over time. That's quite interesting...\n",
    "\n",
    "Also note that we can't rely too much on their exact evaluation technique, which aligns MULTIPLE velodyne pointclouds for generating the ground truth, since it wouldn't work in evaluating the accuracy of reconstructing dynamic objects.\n",
    "\n",
    "FROM THEIR PAPER: We give median, 5th, and 95th percentile on the various Kitti sequences. => No outliers."
   ]
  },
  {
   "cell_type": "markdown",
   "metadata": {},
   "source": [
    "## Timeseries Plots \n",
    "\n",
    "These can highlight how errors change over time. For dynamic sequences but static reconstruction, these could show error spikes when other moving cars enter view. Then, we could show how (most of) those spikes are mitigated once we become aware of the dynamic objects and start reconstructing them separately."
   ]
  },
  {
   "cell_type": "code",
   "execution_count": null,
   "metadata": {},
   "outputs": [],
   "source": [
    "def timeplot(frame, delta=5):\n",
    "    time_colors = ['red', 'green', 'yellow']\n",
    "    time_names = ['Error','Correct','Missing']\n",
    "    ax = frame.plot('frame', \n",
    "                  ['fusion-error-percent-{}'.format(delta), \n",
    "                   'fusion-correct-percent-{}'.format(delta),\n",
    "                   'fusion-missing-percent-{}'.format(delta)],\n",
    "                  'area',\n",
    "                  stacked=True,\n",
    "                  color=time_colors,\n",
    "                  title=\"Fusion stats\"\n",
    "                 )\n",
    "    ax.legend(time_names)\n",
    "\n",
    "    ax2 = frame.plot('frame',\n",
    "                        ['input-error-percent-{}'.format(delta),\n",
    "                         'input-correct-percent-{}'.format(delta),\n",
    "                         'input-missing-percent-{}'.format(delta)],\n",
    "                  'area', stacked=True,\n",
    "                  color=time_colors,\n",
    "                  title=\"Input stats\"\n",
    "                 )\n",
    "    ax2.legend(time_names)\n",
    "    \n",
    "timeplot(frame_elas, 5)\n",
    "timeplot(frame_dn, 5)"
   ]
  },
  {
   "cell_type": "markdown",
   "metadata": {},
   "source": [
    "TODO: show arrows pointing to error spikes motivating (e.g. screeshot of car entering frame )"
   ]
  },
  {
   "cell_type": "code",
   "execution_count": null,
   "metadata": {
    "collapsed": true
   },
   "outputs": [],
   "source": []
  },
  {
   "cell_type": "markdown",
   "metadata": {},
   "source": [
    "## Aggregate Accuracy Plots"
   ]
  },
  {
   "cell_type": "code",
   "execution_count": 125,
   "metadata": {
    "scrolled": false
   },
   "outputs": [],
   "source": [
    "def agggregate_accuracy_comparison(f1, f2, f1_title, f2_title, separate=True):\n",
    "    accs_input = []\n",
    "    accs_input_stds = []\n",
    "    accs_input_e = []\n",
    "    accs_input_stds_e = []\n",
    "    accs_fusion = []\n",
    "    accs_fusion_e = []\n",
    "    accs_fusion_stds = []\n",
    "    accs_fusion_stds_e = []\n",
    "    \n",
    "    MAX_DELTA_MAX = 5\n",
    "    delta_maxes = range(1, MAX_DELTA_MAX)\n",
    "\n",
    "    def stats_for_delta(dframe, name, delta, include_missing):\n",
    "        total = dframe['{}-total-{:.2f}'.format(name, delta)]\n",
    "        error = dframe['{}-error-{:.2f}'.format(name, delta)]\n",
    "        missing = dframe['{}-missing-{:.2f}'.format(name, delta)]\n",
    "        correct = dframe['{}-correct-{:.2f}'.format(name, delta)]\n",
    "\n",
    "        if include_missing:\n",
    "            # Consider missing (uncomputed) values as errors\n",
    "            accuracy = correct / total\n",
    "        else:\n",
    "            accuracy = correct / (total - missing)\n",
    "\n",
    "        return accuracy.mean(), accuracy.std()\n",
    "\n",
    "    # We should not count a missing depth value as an error (Peidong)\n",
    "    missing_are_errors = False\n",
    "    for i in delta_maxes:\n",
    "        fus_acc_mean, fus_acc_std = stats_for_delta(f1, 'fusion', i, missing_are_errors)\n",
    "        fus_acc_mean_e, fus_acc_std_e = stats_for_delta(f2, 'fusion', i, missing_are_errors)\n",
    "        accs_fusion.append(fus_acc_mean)\n",
    "        accs_fusion_stds.append(fus_acc_std)\n",
    "        accs_fusion_e.append(fus_acc_mean_e)\n",
    "        accs_fusion_stds_e.append(fus_acc_std_e)\n",
    "\n",
    "        in_acc_mean, in_acc_std = stats_for_delta(f1, 'input', i, missing_are_errors)\n",
    "        in_acc_mean_e, in_acc_std_e = stats_for_delta(f2, 'input', i, missing_are_errors)\n",
    "        accs_input.append(in_acc_mean)\n",
    "        accs_input_stds.append(in_acc_std)\n",
    "        accs_input_e.append(in_acc_mean_e)\n",
    "        accs_input_stds_e.append(in_acc_std_e)\n",
    "\n",
    "    plot_options = {\n",
    "        'capsize': 4\n",
    "    }\n",
    "    \n",
    "    if separate:\n",
    "        ax = plt.subplot(121)\n",
    "        plt.errorbar(delta_maxes, accs_input, accs_input_stds, label='{}: input'.format(f1_title), **plot_options)\n",
    "        plt.errorbar(delta_maxes, accs_fusion, accs_fusion_stds, label='{}: fused'.format(f1_title), **plot_options)\n",
    "        plt.xlabel(r\"Disparity threshold $\\delta_{\\textrm{max}}$\")\n",
    "        plt.ylabel(r\"Correct pixel ratio\")\n",
    "        plt.ylim([0, 1])\n",
    "        plt.title(\"{}\".format(f1_title))\n",
    "        # plt.axvline(x=3)\n",
    "        ax.spines[\"right\"].set_visible(False)\n",
    "        ax.spines[\"top\"].set_visible(False)\n",
    "        plt.legend()\n",
    "        plt.grid(color='0.7', linestyle='--')\n",
    "\n",
    "        ax = plt.subplot(122)\n",
    "        plt.errorbar(delta_maxes, accs_input_e, accs_input_stds_e, label='{}: input'.format(f2_title), **plot_options)\n",
    "        plt.errorbar(delta_maxes, accs_fusion_e, accs_fusion_stds_e, label='{}: fused'.format(f2_title), **plot_options)\n",
    "        plt.xlabel(r\"Disparity threshold $\\delta_{\\textrm{max}}$\")\n",
    "        plt.ylabel(r\"Correct pixel ratio\")\n",
    "        plt.ylim([0, 1])\n",
    "        plt.title(\"{}\".format(f2_title))\n",
    "        # plt.axvline(x=3)\n",
    "        ax.spines[\"right\"].set_visible(False)\n",
    "        ax.spines[\"top\"].set_visible(False)\n",
    "        plt.legend()\n",
    "        plt.grid(color='0.7', linestyle='--')\n",
    "    else:\n",
    "        # !!! Assume the input is the same in both, and plot input plus the two fused \n",
    "        # results in a single plot.\n",
    "        fig = plt.figure(figsize=(8,6))\n",
    "        ax = fig.add_subplot(111)\n",
    "#         ax.errorbar(delta_maxes, accs_input, accs_input_stds, label='{}: input'.format(f1_title), **plot_options)\n",
    "#         ax.errorbar(delta_maxes, accs_fusion, accs_fusion_stds, label='{}: fused'.format(f1_title), **plot_options)\n",
    "#         ax.errorbar(delta_maxes, accs_fusion_e, accs_fusion_stds_e, label='{}: fused'.format(f2_title), **plot_options)\n",
    "        del plot_options['capsize']\n",
    "        ax.plot(delta_maxes, accs_input, label='{}: input'.format(f1_title), **plot_options)\n",
    "        ax.plot(delta_maxes, accs_fusion, label='{}: fused'.format(f1_title), **plot_options)\n",
    "        ax.plot(delta_maxes, accs_fusion_e, label='{}: fused'.format(f2_title), **plot_options)\n",
    "        ax.set_xlabel(r\"Disparity threshold $\\delta_{\\textrm{max}}$\")\n",
    "        ax.set_ylabel(r\"Correct pixel ratio\")\n",
    "        ax.set_ylim([0.4, 1])\n",
    "        # TODO proper title\n",
    "        plt.title(\"{}\".format(f1_title))\n",
    "        ax.spines[\"right\"].set_visible(False)\n",
    "        ax.spines[\"top\"].set_visible(False)\n",
    "        # TODO spawn legend and grid via ax!!\n",
    "        plt.legend()\n",
    "        plt.grid(color='0.7', linestyle='--')\n",
    "\n",
    "\n",
    "#     plt.suptitle(\"Accuracy: {}\".format(\"Missing=error\" if missing_are_errors else \"Missing=ignore\" ))\n"
   ]
  },
  {
   "cell_type": "code",
   "execution_count": null,
   "metadata": {
    "collapsed": true
   },
   "outputs": [],
   "source": []
  },
  {
   "cell_type": "code",
   "execution_count": 126,
   "metadata": {},
   "outputs": [
    {
     "name": "stdout",
     "output_type": "stream",
     "text": [
      "\u001b[0m\u001b[01;35mitm-semantics-depth-plots.png\u001b[0m  \u001b[01;35mkitti-depth.png\u001b[0m  \u001b[01;35mlsd-slam-results.png\u001b[0m\r\n"
     ]
    }
   ],
   "source": [
    "%ls img"
   ]
  },
  {
   "cell_type": "markdown",
   "metadata": {
    "collapsed": true
   },
   "source": [
    "### Issues with the above plots\n",
    "\n",
    "Right now, we get the unexpected result that the fused data is *less* accurate than the input depth maps. This is so far counterintuitive, since one would expect higher-quality depth maps once several frames are registered. However, this can also lead to an overall loss in precision, since the alignments are never perfect. Our results contradict those from Vineet et al. \"Incremental Dense Semantic Stereo Fusion for Large-Scale Semantic Scene Reconstruction\", who claim that, at least for static scenes, the fusion should, in fact, really help increase accuracy. Sengupta et al.'s evaluation uses the same principle but is not very clear. They only show that their error decreases the higher they set the error tolerance, i.e., that there's very few LARGE mismatches.\n",
    "\n",
    "\"Reconstructing Street-Scenes in Real-Time from a Driving Car\" are very thorough when comparing LIDAR to their sparse reconstructions. For them, single-frame ELAS *does* lead to lower error than maps fused over time.\n",
    "\n",
    "Another interesting issue I've noticed is how the LIDAR-vs-fusion errors are particularly susceptible to bumps in the road. This is most clear in the KITTI odometry sequence 05, where we seem several spikes due to bumps in the road, causing the LIDAR gt to become temporarily misaligned with the map, but NOT with the camera input. Perhaps switching away from GT VO and using e.g. libviso2 VO may help alleviate this issue.\n",
    "\n",
    "TASK(andrei): Update these notes once you try viso2 instead of GT.\n",
    "UPDATE:\n",
    " * Yes, using libviso2 odometry does REDUCE the gap. Looking at the now-vanished spikes in the error of the fused depth maps, it seems that unlike the GT odometry, libviso2 correctly accounts for bumps in the road and reduces the gap in accuracy between the input and the fusion on certain frames.\n",
    " * The fused accuracy is still worse, though, so I need to see whether that can be changed, or whether the result is just sensible.\n",
    "\n",
    "Note that if we count missing pixels as errors, ELAS will always plateau below the fusion since its depth maps are incomplete in the bottom left and right, at least on e.g., KITTI sequence 06, but the fused map obviously no longer has this shortcoming after the first few frames. See:\n",
    "\n",
    "![](img/kitti-depth.png)\n",
    "\n",
    "Remaining issue: figure out WHY the error is higher for the fusion than for the input images (note that for Vineet et al. this *is* the case, at least in the dynamic sequences, unless they activate the semantics-based weighting):\n",
    "\n",
    "![](img/itm-semantics-depth-plots.png)"
   ]
  },
  {
   "cell_type": "code",
   "execution_count": 127,
   "metadata": {
    "collapsed": true
   },
   "outputs": [],
   "source": [
    "CSV_FILE_DN_W = \"../csv/kitti-odometry-06-offset-0-depth-precomputed-dispnet-voxelsize-0.0500-max-depth-m-20.00-dynamic-mode-NO-direct-ref-with-fusion-weights-300-depth-result.csv\"\n",
    "CSV_FILE_DN_OLDSCHOOLD = \"../csv/kitti-odometry-06-offset-0-depth-precomputed-dispnet-voxelsize-0.0500-max-depth-m-20.00-dynamic-mode-NO-direct-ref-NO-fusion-weights-depth-result.csv\""
   ]
  },
  {
   "cell_type": "code",
   "execution_count": 129,
   "metadata": {},
   "outputs": [
    {
     "data": {
      "image/png": "[encoded data removed]",
      "text/plain": [
       "<matplotlib.figure.Figure at 0x7f86bca722e8>"
      ]
     },
     "metadata": {},
     "output_type": "display_data"
    }
   ],
   "source": [
    "# dn_w = pd.read_csv(CSV_FILE_DN_W)\n",
    "# dn_old = pd.read_csv(CSV_FILE_DN_OLDSCHOOLD)\n",
    "# augment(dn_w)\n",
    "# augment(dn_old)\n",
    "\n",
    "# agggregate_accuracy_comparison(dn_w, dn_old, \"Dispnet: dynamic fusion w\", \"Dispnet: fixed w\")\n",
    "\n",
    "# dn_w_300 = pd.read_csv(\"../csv/kitti-odometry-06-offset-0-depth-precomputed-dispnet-voxelsize-0.0500-max-depth-m-20.00-dynamic-mode-NO-direct-ref-with-fusion-weights-300-depth-result.csv\")\n",
    "# dn_w_600_xsqrt = pd.read_csv(\"../csv/kitti-odometry-06-offset-0-depth-precomputed-dispnet-voxelsize-0.0500-max-depth-m-20.00-dynamic-mode-NO-direct-ref-with-fusion-weights-2500-x(sqrt(x))-depth-result.csv\")\n",
    "# augment(dn_w_300)\n",
    "# augment(dn_w_600_xsqrt)\n",
    "\n",
    "# agggregate_accuracy_comparison(dn_w_300, dn_w_600_xsqrt, \"Dispnet: dynamic fusion w\", \"Dispnet: more aggressive\")\n",
    "\n",
    "tracking6_dynamic = pd.read_csv(\"../csv/kitti-tracking-sequence-0006-tracking-dataset-offset-0-depth-precomputed-dispnet-voxelsize-0.0500-max-depth-m-20.00-dynamic-mode-NO-direct-ref-NO-fusion-weights-depth-result.csv\")\n",
    "tracking6_no_dynamic = pd.read_csv(\"../csv/kitti-tracking-sequence-0006-tracking-dataset-offset-0-depth-precomputed-dispnet-voxelsize-0.0500-max-depth-m-20.00-NO-dynamic-NO-direct-ref-NO-fusion-weights-depth-result.csv\")\n",
    "augment(tracking6_dynamic)\n",
    "augment(tracking6_no_dynamic)\n",
    "agggregate_accuracy_comparison(tracking6_dynamic, tracking6_no_dynamic, \"Dynamic fusion\", \"No dynamic fusion\", False)\n",
    "\n",
    "fig_fname = \"dyamic-vs-no-dynamic-tracking-06-full-dispnet-crappy\"\n",
    "plt.savefig('../fig/{}.eps'.format(fig_fname))\n",
    "plt.savefig('../fig/{}.png'.format(fig_fname))\n"
   ]
  },
  {
   "cell_type": "code",
   "execution_count": null,
   "metadata": {
    "collapsed": true
   },
   "outputs": [],
   "source": []
  },
  {
   "cell_type": "code",
   "execution_count": null,
   "metadata": {
    "collapsed": true
   },
   "outputs": [],
   "source": []
  },
  {
   "cell_type": "code",
   "execution_count": 77,
   "metadata": {},
   "outputs": [
    {
     "data": {
      "text/plain": [
       "<matplotlib.lines.Line2D at 0x7f86bcec2d30>"
      ]
     },
     "execution_count": 77,
     "metadata": {},
     "output_type": "execute_result"
    },
    {
     "data": {
      "image/png": "[encoded data removed]",
      "text/plain": [
       "<matplotlib.figure.Figure at 0x7f86bcec26d8>"
      ]
     },
     "metadata": {},
     "output_type": "display_data"
    }
   ],
   "source": [
    "import math\n",
    "\n",
    "x = np.arange(5, 35, 0.1)\n",
    "y =  100 / (x) \n",
    "xmax = 10\n",
    "y[y < 1] = 1\n",
    "y[y > xmax] = xmax\n",
    "\n",
    "plt.plot(x, y)\n",
    "plt.ylim(0 , xmax * 1.1)\n",
    "plt.axhline(1)\n",
    "plt.axvline(6)"
   ]
  },
  {
   "cell_type": "code",
   "execution_count": null,
   "metadata": {
    "collapsed": true
   },
   "outputs": [],
   "source": []
  }
 ],
 "metadata": {
  "kernelspec": {
   "display_name": "Python 3",
   "language": "python",
   "name": "python3"
  },
  "language_info": {
   "codemirror_mode": {
    "name": "ipython",
    "version": 3
   },
   "file_extension": ".py",
   "mimetype": "text/x-python",
   "name": "python",
   "nbconvert_exporter": "python",
   "pygments_lexer": "ipython3",
   "version": "3.6.1"
  }
 },
 "nbformat": 4,
 "nbformat_minor": 2
}
